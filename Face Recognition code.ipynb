{
  "nbformat": 4,
  "nbformat_minor": 0,
  "metadata": {
    "colab": {
      "provenance": [],
      "gpuType": "T4"
    },
    "kernelspec": {
      "name": "python3",
      "display_name": "Python 3"
    },
    "language_info": {
      "name": "python"
    },
    "accelerator": "GPU"
  },
  "cells": [
    {
      "cell_type": "code",
      "execution_count": null,
      "metadata": {
        "colab": {
          "base_uri": "https://localhost:8080/"
        },
        "id": "AA92KczMbkMJ",
        "outputId": "3a2a9f38-3aa1-4286-fb60-7be3b2a177be"
      },
      "outputs": [
        {
          "output_type": "stream",
          "name": "stdout",
          "text": [
            "Collecting face-recognition\n",
            "  Downloading face_recognition-1.3.0-py2.py3-none-any.whl (15 kB)\n",
            "Collecting face-recognition-models>=0.3.0 (from face-recognition)\n",
            "  Downloading face_recognition_models-0.3.0.tar.gz (100.1 MB)\n",
            "\u001b[2K     \u001b[90m━━━━━━━━━━━━━━━━━━━━━━━━━━━━━━━━━━━━━━━━\u001b[0m \u001b[32m100.1/100.1 MB\u001b[0m \u001b[31m2.0 MB/s\u001b[0m eta \u001b[36m0:00:00\u001b[0m\n",
            "\u001b[?25h  Preparing metadata (setup.py) ... \u001b[?25l\u001b[?25hdone\n",
            "Requirement already satisfied: Click>=6.0 in /usr/local/lib/python3.10/dist-packages (from face-recognition) (8.1.7)\n",
            "Requirement already satisfied: dlib>=19.7 in /usr/local/lib/python3.10/dist-packages (from face-recognition) (19.24.4)\n",
            "Requirement already satisfied: numpy in /usr/local/lib/python3.10/dist-packages (from face-recognition) (1.25.2)\n",
            "Requirement already satisfied: Pillow in /usr/local/lib/python3.10/dist-packages (from face-recognition) (9.4.0)\n",
            "Building wheels for collected packages: face-recognition-models\n",
            "  Building wheel for face-recognition-models (setup.py) ... \u001b[?25l\u001b[?25hdone\n",
            "  Created wheel for face-recognition-models: filename=face_recognition_models-0.3.0-py2.py3-none-any.whl size=100566170 sha256=59b45843a1bace1ab4cd14252ea42928cab8f4daf4741625b159263ad15b9d14\n",
            "  Stored in directory: /root/.cache/pip/wheels/7a/eb/cf/e9eced74122b679557f597bb7c8e4c739cfcac526db1fd523d\n",
            "Successfully built face-recognition-models\n",
            "Installing collected packages: face-recognition-models, face-recognition\n",
            "Successfully installed face-recognition-1.3.0 face-recognition-models-0.3.0\n"
          ]
        }
      ],
      "source": [
        "!pip install face-recognition"
      ]
    },
    {
      "cell_type": "code",
      "source": [
        "import os\n",
        "import cv2\n",
        "import face_recognition\n",
        "import numpy as np\n",
        "import h5py"
      ],
      "metadata": {
        "id": "fW6hZNjvbsg3"
      },
      "execution_count": null,
      "outputs": []
    },
    {
      "cell_type": "code",
      "source": [
        "def load_known_encodings(h5_file, known_faces_dir):\n",
        "    if os.path.exists(h5_file):\n",
        "        with h5py.File(h5_file, 'r') as f:\n",
        "            known_encodings = list(f['encodings'])\n",
        "            known_names = [name.decode('utf-8') for name in f['names']]\n",
        "    else:\n",
        "        known_encodings = []\n",
        "        known_names = []\n",
        "        for filename in os.listdir(known_faces_dir):\n",
        "            file_path = os.path.join(known_faces_dir, filename)\n",
        "            if os.path.isfile(file_path):\n",
        "                img = cv2.imread(file_path)\n",
        "                img_rgb = cv2.cvtColor(img, cv2.COLOR_BGR2RGB)\n",
        "                encodings = face_recognition.face_encodings(img_rgb)\n",
        "                if encodings:\n",
        "                    known_encodings.append(encodings[0])\n",
        "                    known_names.append(os.path.splitext(filename)[0])\n",
        "    return known_encodings, known_names"
      ],
      "metadata": {
        "id": "8zy-bTDBbsjp"
      },
      "execution_count": null,
      "outputs": []
    },
    {
      "cell_type": "code",
      "source": [
        "def save_known_encodings(h5_file, known_encodings, known_names):\n",
        "    with h5py.File(h5_file, 'w') as f:\n",
        "        f.create_dataset('encodings', data=known_encodings)\n",
        "        f.create_dataset('names', data=np.array(known_names, dtype='S'))\n"
      ],
      "metadata": {
        "id": "HCbXQkIcbsm3"
      },
      "execution_count": null,
      "outputs": []
    },
    {
      "cell_type": "code",
      "source": [
        "from google.colab import drive\n",
        "drive.mount('/content/drive')"
      ],
      "metadata": {
        "colab": {
          "base_uri": "https://localhost:8080/"
        },
        "id": "L4I3e4NNf1Up",
        "outputId": "e52adc92-7db0-4065-9ee0-2d14e8be6c15"
      },
      "execution_count": null,
      "outputs": [
        {
          "output_type": "stream",
          "name": "stdout",
          "text": [
            "Drive already mounted at /content/drive; to attempt to forcibly remount, call drive.mount(\"/content/drive\", force_remount=True).\n"
          ]
        }
      ]
    },
    {
      "cell_type": "code",
      "source": [
        "\n",
        "def recognize_faces(image_path, known_encodings, known_names, tolerance=0.6):\n",
        "    img = cv2.imread(image_path)\n",
        "    if img is None:\n",
        "        print(f\"Error: Unable to load image {image_path}\")\n",
        "        return \"Unknown\", None\n",
        "\n",
        "    img_rgb = cv2.cvtColor(img, cv2.COLOR_BGR2RGB)\n",
        "    face_locations = face_recognition.face_locations(img_rgb)\n",
        "    face_encodings = face_recognition.face_encodings(img_rgb, face_locations)\n",
        "\n",
        "    name = \"Unknown\"\n",
        "    for face_encoding in face_encodings:\n",
        "        distances = face_recognition.face_distance(known_encodings, face_encoding)\n",
        "        best_match_index = np.argmin(distances)\n",
        "        if distances[best_match_index] < tolerance:\n",
        "            name = known_names[best_match_index]\n",
        "            break\n",
        "\n",
        "    return name, face_encodings"
      ],
      "metadata": {
        "id": "2suzS4NTbsps"
      },
      "execution_count": null,
      "outputs": []
    },
    {
      "cell_type": "code",
      "source": [
        "\n",
        "def main():\n",
        "    known_faces_dir = '/content/drive/My Drive/known_faces'\n",
        "    h5_file = 'encodings.h5'\n",
        "    image_to_recognize = 'a.jpg'  # Change this to the path of the image you want to recognize\n",
        "\n",
        "    # Load known face encodings and names\n",
        "    known_encodings, known_names = load_known_encodings(h5_file, known_faces_dir)\n",
        "\n",
        "    # Perform face recognition on the new image\n",
        "    recognized_name, face_encodings = recognize_faces(image_to_recognize, known_encodings, known_names)\n",
        "\n",
        "    # If the face is not recognized, add it to the known encodings with a unique name based on the filename\n",
        "    if recognized_name == \"Unknown\" and face_encodings:\n",
        "        known_encodings.append(face_encodings[0])\n",
        "        new_name = os.path.splitext(os.path.basename(image_to_recognize))[0]\n",
        "        known_names.append(new_name)\n",
        "        save_known_encodings(h5_file, known_encodings, known_names)\n",
        "        recognized_name = new_name\n",
        "\n",
        "    print(f\"Recognized Name: {recognized_name}\")\n",
        "\n",
        "if __name__ == \"__main__\":\n",
        "    main()\n"
      ],
      "metadata": {
        "colab": {
          "base_uri": "https://localhost:8080/"
        },
        "id": "YCUAFACAcCGa",
        "outputId": "6dc1051e-5ce8-4f2d-c586-070b56d255ff"
      },
      "execution_count": null,
      "outputs": [
        {
          "output_type": "stream",
          "name": "stdout",
          "text": [
            "Recognized Name: a\n"
          ]
        }
      ]
    },
    {
      "cell_type": "code",
      "source": [],
      "metadata": {
        "colab": {
          "base_uri": "https://localhost:8080/"
        },
        "id": "WprrlHTJcqLd",
        "outputId": "45212ab9-3ed5-45bc-ee23-213e7177ffcf"
      },
      "execution_count": null,
      "outputs": [
        {
          "output_type": "stream",
          "name": "stdout",
          "text": [
            "Mounted at /content/drive\n"
          ]
        }
      ]
    },
    {
      "cell_type": "code",
      "source": [],
      "metadata": {
        "id": "lblmU_bbcCKI"
      },
      "execution_count": null,
      "outputs": []
    }
  ]
}